{
 "cells": [
  {
   "cell_type": "markdown",
   "metadata": {},
   "source": [
    "# Visualizing and analysing the dataset"
   ]
  },
  {
   "cell_type": "markdown",
   "metadata": {},
   "source": [
    "## Loading train data"
   ]
  },
  {
   "cell_type": "code",
   "execution_count": 13,
   "metadata": {},
   "outputs": [],
   "source": [
    "# import load_data"
   ]
  },
  {
   "cell_type": "code",
   "execution_count": 18,
   "metadata": {},
   "outputs": [],
   "source": [
    "import os\n",
    "import glob\n",
    "\n",
    "def get_speaker_to_utterance(data_dir):\n",
    "    \"\"\"\n",
    "    Returns a dictionary with speaker_id(keys) mapping to lists with utterance file path(values)\n",
    "    data_sir - folder containing train data\n",
    "    \"\"\"\n",
    "\n",
    "    speaker_to_utterance = dict()\n",
    "\n",
    "    # Get all the files in data folder \n",
    "    files_list = glob.glob(os.path.join(data_dir, \"*\"))\n",
    "    print(files_list)\n",
    "\n",
    "    for file in files_list:\n",
    "        # Get speaker's id from the file name (eg: a single train data file is named \"spk_2-2_1_1_0_d5_ch5.wav\")\n",
    "        speaker_id = os.path.basename(file)\n",
    "        speaker_id = speaker_id.split(\"-\")[0]\n",
    "\n",
    "        # Add file path to list\n",
    "        if speaker_id not in speaker_to_utterance:\n",
    "            speaker_to_utterance[speaker_id] = []\n",
    "        speaker_to_utterance[speaker_id].append(file)\n",
    "\n",
    "    return speaker_to_utterance"
   ]
  },
  {
   "cell_type": "code",
   "execution_count": 19,
   "metadata": {},
   "outputs": [
    {
     "name": "stdout",
     "output_type": "stream",
     "text": [
      "[]\n",
      "0\n"
     ]
    }
   ],
   "source": [
    "DATA_DIR = \"\\data\"\n",
    "utterance_dictionary = get_speaker_to_utterance(DATA_DIR)\n",
    "print(len(utterance_dictionary))"
   ]
  },
  {
   "cell_type": "code",
   "execution_count": null,
   "metadata": {},
   "outputs": [],
   "source": [
    "print"
   ]
  }
 ],
 "metadata": {
  "kernelspec": {
   "display_name": "Python 3 (ipykernel)",
   "language": "python",
   "name": "python3"
  },
  "language_info": {
   "codemirror_mode": {
    "name": "ipython",
    "version": 3
   },
   "file_extension": ".py",
   "mimetype": "text/x-python",
   "name": "python",
   "nbconvert_exporter": "python",
   "pygments_lexer": "ipython3",
   "version": "3.8.15"
  }
 },
 "nbformat": 4,
 "nbformat_minor": 2
}
